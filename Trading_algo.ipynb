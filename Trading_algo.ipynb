{
 "cells": [
  {
   "cell_type": "code",
   "execution_count": 1,
   "metadata": {},
   "outputs": [
    {
     "data": {
      "text/html": [
       "<div>\n",
       "<style scoped>\n",
       "    .dataframe tbody tr th:only-of-type {\n",
       "        vertical-align: middle;\n",
       "    }\n",
       "\n",
       "    .dataframe tbody tr th {\n",
       "        vertical-align: top;\n",
       "    }\n",
       "\n",
       "    .dataframe thead th {\n",
       "        text-align: right;\n",
       "    }\n",
       "</style>\n",
       "<table border=\"1\" class=\"dataframe\">\n",
       "  <thead>\n",
       "    <tr style=\"text-align: right;\">\n",
       "      <th></th>\n",
       "      <th>Open</th>\n",
       "      <th>High</th>\n",
       "      <th>Low</th>\n",
       "      <th>Close</th>\n",
       "      <th>HOD</th>\n",
       "      <th>LOD</th>\n",
       "      <th>HOY</th>\n",
       "      <th>LOY</th>\n",
       "      <th>VPOC</th>\n",
       "      <th>VPOC-1</th>\n",
       "      <th>LinReg</th>\n",
       "      <th>LinRegSlope</th>\n",
       "      <th>CumDelta</th>\n",
       "      <th>Ticks</th>\n",
       "    </tr>\n",
       "  </thead>\n",
       "  <tbody>\n",
       "    <tr>\n",
       "      <th>0</th>\n",
       "      <td>-0.02</td>\n",
       "      <td>-0.04</td>\n",
       "      <td>0.10</td>\n",
       "      <td>0.04</td>\n",
       "      <td>-0.010</td>\n",
       "      <td>0.025</td>\n",
       "      <td>-0.140</td>\n",
       "      <td>0.260</td>\n",
       "      <td>0.04</td>\n",
       "      <td>0.00</td>\n",
       "      <td>1.00</td>\n",
       "      <td>0.00</td>\n",
       "      <td>-134</td>\n",
       "      <td>0.06</td>\n",
       "    </tr>\n",
       "    <tr>\n",
       "      <th>1</th>\n",
       "      <td>0.20</td>\n",
       "      <td>-0.06</td>\n",
       "      <td>0.24</td>\n",
       "      <td>0.00</td>\n",
       "      <td>-0.015</td>\n",
       "      <td>0.075</td>\n",
       "      <td>-0.095</td>\n",
       "      <td>0.305</td>\n",
       "      <td>0.04</td>\n",
       "      <td>0.24</td>\n",
       "      <td>0.84</td>\n",
       "      <td>0.36</td>\n",
       "      <td>2567</td>\n",
       "      <td>-0.04</td>\n",
       "    </tr>\n",
       "    <tr>\n",
       "      <th>2</th>\n",
       "      <td>0.06</td>\n",
       "      <td>-0.06</td>\n",
       "      <td>0.06</td>\n",
       "      <td>0.00</td>\n",
       "      <td>-0.015</td>\n",
       "      <td>0.085</td>\n",
       "      <td>-0.085</td>\n",
       "      <td>0.315</td>\n",
       "      <td>-0.02</td>\n",
       "      <td>0.08</td>\n",
       "      <td>0.86</td>\n",
       "      <td>0.49</td>\n",
       "      <td>-186</td>\n",
       "      <td>0.00</td>\n",
       "    </tr>\n",
       "    <tr>\n",
       "      <th>3</th>\n",
       "      <td>0.02</td>\n",
       "      <td>0.00</td>\n",
       "      <td>0.10</td>\n",
       "      <td>0.04</td>\n",
       "      <td>-0.015</td>\n",
       "      <td>0.085</td>\n",
       "      <td>-0.085</td>\n",
       "      <td>0.315</td>\n",
       "      <td>0.04</td>\n",
       "      <td>0.06</td>\n",
       "      <td>0.76</td>\n",
       "      <td>0.62</td>\n",
       "      <td>-376</td>\n",
       "      <td>0.00</td>\n",
       "    </tr>\n",
       "    <tr>\n",
       "      <th>4</th>\n",
       "      <td>0.04</td>\n",
       "      <td>-0.06</td>\n",
       "      <td>0.06</td>\n",
       "      <td>0.00</td>\n",
       "      <td>-0.015</td>\n",
       "      <td>0.105</td>\n",
       "      <td>-0.065</td>\n",
       "      <td>0.335</td>\n",
       "      <td>-0.02</td>\n",
       "      <td>0.10</td>\n",
       "      <td>0.74</td>\n",
       "      <td>0.60</td>\n",
       "      <td>386</td>\n",
       "      <td>0.10</td>\n",
       "    </tr>\n",
       "  </tbody>\n",
       "</table>\n",
       "</div>"
      ],
      "text/plain": [
       "   Open  High   Low  Close    HOD    LOD    HOY    LOY  VPOC  VPOC-1  LinReg  \\\n",
       "0 -0.02 -0.04  0.10   0.04 -0.010  0.025 -0.140  0.260  0.04    0.00    1.00   \n",
       "1  0.20 -0.06  0.24   0.00 -0.015  0.075 -0.095  0.305  0.04    0.24    0.84   \n",
       "2  0.06 -0.06  0.06   0.00 -0.015  0.085 -0.085  0.315 -0.02    0.08    0.86   \n",
       "3  0.02  0.00  0.10   0.04 -0.015  0.085 -0.085  0.315  0.04    0.06    0.76   \n",
       "4  0.04 -0.06  0.06   0.00 -0.015  0.105 -0.065  0.335 -0.02    0.10    0.74   \n",
       "\n",
       "   LinRegSlope  CumDelta  Ticks  \n",
       "0         0.00      -134   0.06  \n",
       "1         0.36      2567  -0.04  \n",
       "2         0.49      -186   0.00  \n",
       "3         0.62      -376   0.00  \n",
       "4         0.60       386   0.10  "
      ]
     },
     "execution_count": 1,
     "metadata": {},
     "output_type": "execute_result"
    }
   ],
   "source": [
    "import pandas as pd\n",
    "\n",
    "# Read the CSV file\n",
    "data = pd.read_csv(\"pred2017l.csv\")\n",
    "\n",
    "# Display the data\n",
    "data.head()"
   ]
  },
  {
   "cell_type": "markdown",
   "metadata": {},
   "source": [
    "Train-valid-test split"
   ]
  },
  {
   "cell_type": "code",
   "execution_count": 2,
   "metadata": {},
   "outputs": [
    {
     "name": "stdout",
     "output_type": "stream",
     "text": [
      "(2136, 13)\n",
      "(2136,)\n",
      "(713, 13)\n",
      "(713,)\n",
      "(2849, 13)\n"
     ]
    }
   ],
   "source": [
    "from sklearn.model_selection import train_test_split\n",
    "\n",
    "# train-valid-test split\n",
    "X_temp = data.drop('Ticks',axis=1)\n",
    "y_temp = data['Ticks']\n",
    "\n",
    "X_train, X_valid, y_train, y_valid = train_test_split(X_temp, y_temp, test_size=0.25, train_size=0.75)\n",
    "\n",
    "X_test  = data.drop('Ticks',axis=1)\n",
    "y_test  = data['Ticks']\n",
    "\n",
    "print(X_train.shape)\n",
    "print(y_train.shape)\n",
    "print(X_valid.shape)\n",
    "print(y_valid.shape)\n",
    "print(X_test.shape)"
   ]
  },
  {
   "cell_type": "markdown",
   "metadata": {},
   "source": [
    "Convert data into XGB format"
   ]
  },
  {
   "cell_type": "code",
   "execution_count": 3,
   "metadata": {},
   "outputs": [],
   "source": [
    "import xgboost as xgb\n",
    "\n",
    "d_train = xgb.DMatrix(X_train, y_train)\n",
    "d_valid = xgb.DMatrix(X_valid, y_valid)\n",
    "d_test  = xgb.DMatrix(X_test)"
   ]
  },
  {
   "cell_type": "markdown",
   "metadata": {},
   "source": [
    "XGB parameters"
   ]
  },
  {
   "cell_type": "code",
   "execution_count": 4,
   "metadata": {},
   "outputs": [],
   "source": [
    "xgb_params = {\n",
    "    'n_trees': 75, \n",
    "    'eta': 0.03,\n",
    "    'max_depth': 4,\n",
    "    'subsample': 0.90,\n",
    "    'objective': 'reg:linear',\n",
    "    'eval_metric': 'rmse',\n",
    "    #'base_score': y_mean, # base prediction = mean(target)\n",
    "    'silent': 0}\n",
    "\n",
    "#\n",
    "num_boost_rounds = 1000\n",
    "watchlist = [(d_train, 'train'), (d_valid, 'valid')]"
   ]
  },
  {
   "cell_type": "markdown",
   "metadata": {},
   "source": [
    "Train the model"
   ]
  },
  {
   "cell_type": "code",
   "execution_count": 5,
   "metadata": {},
   "outputs": [
    {
     "name": "stdout",
     "output_type": "stream",
     "text": [
      "[0]\ttrain-rmse:0.09211\tvalid-rmse:0.09130\n",
      "[10]\ttrain-rmse:0.09076\tvalid-rmse:0.09124\n",
      "[20]\ttrain-rmse:0.08970\tvalid-rmse:0.09128\n",
      "[30]\ttrain-rmse:0.08890\tvalid-rmse:0.09134\n",
      "[40]\ttrain-rmse:0.08814\tvalid-rmse:0.09139\n",
      "[50]\ttrain-rmse:0.08759\tvalid-rmse:0.09146\n",
      "[60]\ttrain-rmse:0.08692\tvalid-rmse:0.09149\n",
      "[70]\ttrain-rmse:0.08619\tvalid-rmse:0.09149\n"
     ]
    },
    {
     "name": "stderr",
     "output_type": "stream",
     
    },
    {
     "name": "stdout",
     "output_type": "stream",
     "text": [
      "[80]\ttrain-rmse:0.08566\tvalid-rmse:0.09156\n",
      "[90]\ttrain-rmse:0.08508\tvalid-rmse:0.09158\n",
      "[100]\ttrain-rmse:0.08445\tvalid-rmse:0.09156\n",
      "[110]\ttrain-rmse:0.08386\tvalid-rmse:0.09150\n",
      "[120]\ttrain-rmse:0.08334\tvalid-rmse:0.09163\n",
      "[130]\ttrain-rmse:0.08284\tvalid-rmse:0.09168\n",
      "[140]\ttrain-rmse:0.08243\tvalid-rmse:0.09171\n",
      "[150]\ttrain-rmse:0.08194\tvalid-rmse:0.09179\n",
      "[160]\ttrain-rmse:0.08137\tvalid-rmse:0.09182\n",
      "[170]\ttrain-rmse:0.08084\tvalid-rmse:0.09186\n",
      "[180]\ttrain-rmse:0.08022\tvalid-rmse:0.09183\n",
      "[190]\ttrain-rmse:0.07986\tvalid-rmse:0.09185\n",
      "[200]\ttrain-rmse:0.07945\tvalid-rmse:0.09189\n",
      "[210]\ttrain-rmse:0.07907\tvalid-rmse:0.09196\n",
      "[220]\ttrain-rmse:0.07859\tvalid-rmse:0.09200\n",
      "[230]\ttrain-rmse:0.07813\tvalid-rmse:0.09209\n",
      "[240]\ttrain-rmse:0.07773\tvalid-rmse:0.09214\n",
      "[250]\ttrain-rmse:0.07722\tvalid-rmse:0.09213\n",
      "[260]\ttrain-rmse:0.07678\tvalid-rmse:0.09216\n",
      "[270]\ttrain-rmse:0.07627\tvalid-rmse:0.09219\n",
      "[280]\ttrain-rmse:0.07584\tvalid-rmse:0.09227\n",
      "[290]\ttrain-rmse:0.07541\tvalid-rmse:0.09230\n",
      "[300]\ttrain-rmse:0.07487\tvalid-rmse:0.09234\n",
      "[310]\ttrain-rmse:0.07434\tvalid-rmse:0.09237\n",
      "[320]\ttrain-rmse:0.07398\tvalid-rmse:0.09243\n",
      "[330]\ttrain-rmse:0.07358\tvalid-rmse:0.09261\n",
      "[340]\ttrain-rmse:0.07315\tvalid-rmse:0.09262\n",
      "[350]\ttrain-rmse:0.07273\tvalid-rmse:0.09268\n",
      "[360]\ttrain-rmse:0.07231\tvalid-rmse:0.09281\n",
      "[370]\ttrain-rmse:0.07176\tvalid-rmse:0.09291\n",
      "[380]\ttrain-rmse:0.07138\tvalid-rmse:0.09301\n",
      "[390]\ttrain-rmse:0.07095\tvalid-rmse:0.09307\n",
      "[400]\ttrain-rmse:0.07061\tvalid-rmse:0.09306\n",
      "[410]\ttrain-rmse:0.07021\tvalid-rmse:0.09313\n",
      "[420]\ttrain-rmse:0.06978\tvalid-rmse:0.09320\n",
      "[430]\ttrain-rmse:0.06941\tvalid-rmse:0.09328\n",
      "[440]\ttrain-rmse:0.06897\tvalid-rmse:0.09341\n",
      "[450]\ttrain-rmse:0.06856\tvalid-rmse:0.09348\n",
      "[460]\ttrain-rmse:0.06817\tvalid-rmse:0.09350\n",
      "[470]\ttrain-rmse:0.06782\tvalid-rmse:0.09361\n",
      "[480]\ttrain-rmse:0.06751\tvalid-rmse:0.09369\n",
      "[490]\ttrain-rmse:0.06709\tvalid-rmse:0.09374\n",
      "[500]\ttrain-rmse:0.06669\tvalid-rmse:0.09380\n",
      "[507]\ttrain-rmse:0.06645\tvalid-rmse:0.09388\n"
     ]
    }
   ],
   "source": [
    "# Train the model!\n",
    "mdl = xgb.train(dict(xgb_params, silent=0), d_train, num_boost_rounds, watchlist, early_stopping_rounds=500, maximize=False, verbose_eval=10)"
   ]
  },
  {
   "cell_type": "markdown",
   "metadata": {},
   "source": [
    "Predict the test data"
   ]
  },
  {
   "cell_type": "code",
   "execution_count": 6,
   "metadata": {},
   "outputs": [
    {
     "name": "stdout",
     "output_type": "stream",
     "text": [
      "[ 0.06835799  0.00135426  0.02049364 ...  0.00785354  0.02362306\n",
      " -0.00521413]\n"
     ]
    }
   ],
   "source": [
    "y_pred = mdl.predict(d_test)\n",
    "\n",
    "print(y_pred)"
   ]
  },
  {
   "cell_type": "markdown",
   "metadata": {},
   "source": [
    "test the quality of a model"
   ]
  },
  {
   "cell_type": "code",
   "execution_count": 8,
   "metadata": {},
   "outputs": [
    {
     "name": "stdout",
     "output_type": "stream",
     "text": [
      "Mean Squared Error is: 0.00950291735580182\n",
      "Root Mean Squared Error is: 0.0974829080188\n",
      "Mean Absolute Error is: 0.07273784090353244\n"
     ]
    }
   ],
   "source": [
    "from sklearn.metrics import root_mean_squared_error, mean_squared_error, mean_absolute_error\n",
    "# Reshape y_pred to match the shape of y_valid\n",
    "y_pred = y_pred[:len(y_valid)]\n",
    "\n",
    "# Calculate the mean squared error\n",
    "mse = mean_squared_error(y_valid, y_pred)\n",
    "rmse = root_mean_squared_error(y_valid, y_pred)\n",
    "mae= mean_absolute_error(y_valid, y_pred)\n",
    "\n",
    "print('Mean Squared Error is:', mse)\n",
    "print('Root Mean Squared Error is:', rmse)\n",
    "print('Mean Absolute Error is:', mae)\n"
   ]
  }
 ],
 "metadata": {
  "kernelspec": {
   "display_name": "Python 3",
   "language": "python",
   "name": "python3"
  },
  "language_info": {
   "codemirror_mode": {
    "name": "ipython",
    "version": 3
   },
   "file_extension": ".py",
   "mimetype": "text/x-python",
   "name": "python",
   "nbconvert_exporter": "python",
   "pygments_lexer": "ipython3",
   "version": "3.12.3"
  }
 },
 "nbformat": 4,
 "nbformat_minor": 2
}
